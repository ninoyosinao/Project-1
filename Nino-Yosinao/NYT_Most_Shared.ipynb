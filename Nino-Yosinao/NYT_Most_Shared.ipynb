{
 "cells": [
  {
   "cell_type": "code",
   "execution_count": 62,
   "metadata": {},
   "outputs": [],
   "source": [
    "# Dependencies and Setup\n",
    "import matplotlib.pyplot as plt\n",
    "import pandas as pd\n",
    "import numpy as np\n",
    "import requests\n",
    "import time\n",
    "from pytrends.request import TrendReq\n",
    "from pprint import pprint\n",
    "import string\n",
    "\n",
    "# Import API key\n",
    "from config import api_key"
   ]
  },
  {
   "cell_type": "markdown",
   "metadata": {},
   "source": [
    "## Generate Top Query List"
   ]
  },
  {
   "cell_type": "code",
   "execution_count": 135,
   "metadata": {},
   "outputs": [
    {
     "name": "stdout",
     "output_type": "stream",
     "text": [
      "['mostly mozart festival', 'classical music', 'pop and rock music', 'women and girls', 'politics and government', 'german language', 'parks and other recreation areas', 'philanthropy', 'music', 'gospel music', 'musical instruments', 'music', 'classical music', 'tanglewood music festival (lenox, mass)', 'television', 'actors and actresses', 'comedy and humor', 'art', 'museums', 'blacks', 'television', 'education (k-12)', 'blacks', 'race and ethnicity', 'discrimination', 'pop and rock music', 'television', \"parkinson's disease\", 'parks and other recreation areas', 'rivers', 'architecture', 'art', 'buddhism', 'art', 'sculpture', 'comedy and humor', '#metoo movement', 'ventriloquists', 'suits and litigation (civil)', 'libel and slander', 'theater', 'classical music', 'books and literature', 'books and literature', 'genetics and heredity', 'evolution (biology)', 'books and literature', 'books and literature', 'united states economy', 'labor and jobs', 'books and literature', 'books and literature', 'income inequality', 'writing and writers', 'books and literature', 'education (k-12)', 'books and literature', 'books and literature', 'books and literature', 'drug abuse and traffic', 'addiction (psychology)', 'opioids and opiates', 'pain-relieving drugs', 'books and literature', 'murders, attempted murders and homicides', 'books and literature', 'education (k-12)', 'fashion and apparel', 'photography', 'books and literature', 'writing and writers', 'books and literature', 'books and literature', 'writing and writers', 'books and literature', 'writing and writers', 'bank robberies', 'books and literature', 'jazz', 'books and literature', 'books and literature', 'united states international relations', 'books and literature', 'writing and writers', 'colleges and universities', 'admissions standards', 'education', 'colleges and universities', 'education', 'social media', 'admissions standards', 'education', 'colleges and universities', 'product tests', 'hazardous and toxic substances', 'asbestos', 'supermarkets and grocery stores', 'wines', 'restaurants', 'cooking and cookbooks', 'chili peppers', 'condiments', 'restaurants', 'cooking and cookbooks', 'restaurants', 'food', 'salmon', 'fishing, commercial', 'summer (season)', 'global warming', 'restaurants', 'blacks', 'chefs', 'cooking and cookbooks', 'cooking and cookbooks', 'vegetables', 'pies', 'bakeries and baked products', 'restaurants', 'restaurants', 'wages and salaries', 'cooking and cookbooks', 'seafood', 'scallops', 'grilling (cooking)', 'restaurants', 'music', 'cocktails and mixed drinks', 'rum', 'bars and nightclubs', 'restaurants', 'cooking and cookbooks', 'grilling (cooking)', 'pork', 'restaurants', 'cooking and cookbooks', 'pasta', 'ticks (insects)', 'rocky mountain spotted fever', 'hospitals', 'elderly', 'preventive medicine', 'blacks', 'men and boys', \"alzheimer's disease\", 'drugs (pharmaceuticals)', 'memory', 'hospitals', 'discrimination', 'women and girls', 'same-sex marriage, civil unions and domestic partnerships', 'homosexuality and bisexuality', 'cereals', 'defoliants and herbicides', 'dogs', 'diet and nutrition', 'mental health and disorders', 'psychology and psychologists', 'addiction (psychology)', 'anxiety and stress', 'therapy and rehabilitation', 'psychology and psychologists', 'ticks (insects)', 'vaccination and immunization', 'lyme disease', 'sleep', 'productivity', 'health insurance and managed care', 'elderly', 'drugs (pharmaceuticals)', 'rebates and refunds', 'health insurance and managed care', 'buprenorphine (drug)', 'drug abuse and traffic', 'opioids and opiates', 'addiction (psychology)', 'emergency medical treatment', 'united states international relations', 'pain-relieving drugs', 'opioids and opiates', 'back (human body part)', 'drugs (pharmaceuticals)', 'genetics and heredity', 'tests (medical)', 'heart', 'greenhouse gas emissions', 'united states economy', 'united states politics and government', 'data-mining and database marketing', 'surveillance of citizens by government', 'united states politics and government', 'united states defense and military forces', 'afghanistan war (2001- )', 'iraq war (2003-11)', 'genetics and heredity', 'evolution (biology)', 'bees', 'canoes and canoeing', 'ticks (insects)', 'allergies', 'high net worth individuals', 'sailboats and sailing', 'health insurance and managed care', 'water', 'conservation of resources', 'prisons and prisoners', 'wildfires', 'fires and firefighters', 'democracy (theory and philosophy)', 'politics and government', 'united states international relations', 'caste systems', 'urban areas', 'global warming', 'international trade and world market', 'united states international relations', 'fishing, sport', 'senses and sensation', 'adoptions', 'voice and speech', 'jews and judaism', 'movies', 'cyberharassment', 'women and girls', 'actors and actresses', 'movies', 'actors and actresses', 'movies', 'theater', 'movies', 'movies', 'books and literature', 'movies', 'myths and mythical creatures', 'figure skating', 'movies', 'movies', 'movies', 'movies', 'movies', 'movies', 'movies', '#metoo movement', 'movies', 'movies', 'acquired immune deficiency syndrome', 'documentary films and programs', 'movies', 'blacks', 'movies', 'movies', 'social media', 'movies', 'gospel music', 'presidential election of 2008', 'united states politics and government', 'prisoners of war', 'prisons and prisoners', 'writing and writers', 'theater', 'movies', 'deaths (obituaries)', 'diplomatic service, embassies and consulates', 'nobel prizes', 'united states politics and government', 'immigration and emigration', 'writing and writers', 'books and literature', 'deaths (obituaries)', 'poetry and poets', 'writing and writers', 'deaths (obituaries)', 'holocaust and the nazi era', 'world war ii (1939-45)', \"women's rights\", 'politics and government', 'biographical information', 'drug abuse and traffic', 'deaths (obituaries)', 'biographical information', 'television', 'actors and actresses', 'deaths (obituaries)', 'blacks', 'historic buildings and sites', 'restoration and renovation', 'music', 'politics and government', 'space and astronomy', 'stars and galaxies', 'biographical information', 'special education', 'women and girls', 'mathematics', 'education (k-12)', 'science and technology', 'news and news media', 'colleges and universities', 'careers and professions', 'united states politics and government', 'midterm elections (2018)', 'corruption (institutional)', 'united states politics and government', 'russian interference in 2016 us elections and ties to trump associates', 'russian interference in 2016 us elections and ties to trump associates', 'presidential election of 2016', 'politics and government', 'russian interference in 2016 us elections and ties to trump associates', 'united states defense and military forces', 'classified information and state secrets', 'first ladies (us)', 'midterm elections (2018)', 'russian interference in 2016 us elections and ties to trump associates', 'united states politics and government', 'presidential election of 2016', 'united states politics and government', 'states (us)', 'parenting', 'socialism (theory and philosophy)', 'united states politics and government', 'poetry and poets', 'disabilities', 'parenting', 'united states politics and government', 'parenting', 'child abuse and neglect', 'discrimination', 'children and childhood', 'menopause', 'dogs', 'united states politics and government', 'presidential election of 2020', 'alternative and renewable energy', 'news and news media', 'newspapers', 'threats and threatening messages', 'united states politics and government', 'campaign finance', 'neanderthal man', 'denisova hominid', 'genetics and heredity', 'archaeology and anthropology', 'happiness', 'psychology and psychologists', 'research', 'customs, etiquette and manners', 'crows (birds)', 'amusement and theme parks', 'animal cognition', 'bees', 'biodiversity', 'agriculture and farming', 'fruit', 'vegetables', 'nuts', 'pollen', 'animal behavior', 'dogs', 'animal cognition', 'lakes', 'algae', 'plastics', 'polymers', 'recycling of waste materials', 'penguins', 'research', 'global warming', 'endangered and extinct species', 'poker (card game)', 'cards and card games', 'cattle', 'animal behavior', 'dairy products', 'animal abuse, rights and welfare', 'animal behavior', 'birds', 'foxes', 'animal behavior', 'dogs', 'contact lenses', 'waste materials and disposal', 'recycling of waste materials', 'water pollution', 'plastics', 'greenhouse gas emissions', 'carbon dioxide', 'photosynthesis', 'global warming', 'endangered and extinct species', 'water pollution', 'nuns', 'worms', 'algae', 'ships and shipping', 'fish and other marine life', 'adhesives', 'engineering and engineers', 'fruit', 'physics', 'citrus fruits', 'rock and stone', 'geology', 'fish and other marine life', 'hazardous and toxic substances', 'fishing, sport', 'blacks', 'race and ethnicity', 'baseball', 'espionage and intelligence services', 'baseball', 'baseball', 'baseball', 'aviation accidents, safety and disasters', 'baseball', 'baseball', 'basketball', 'blacks', 'tennis', 'baseball', 'barbers and barbering', 'soccer', 'children and childhood', \"rubik's cube\", 'baseball', 'homosexuality and bisexuality', 'athletics and sports', 'discrimination', 'tennis', 'coaches and managers', 'football (college)', 'vitamins', 'dietary supplements and herbal remedies', 'computers and the internet', 'sleep', 'working hours', 'television', 'skin', 'cosmetics and toiletries', 'transvestism', 'television', 'books and literature', 'writing and writers', 'comedy and humor', 'fashion and apparel', 'shopping and retail', 'jews and judaism', 'horses', 'horsemanship and equestrian events', 'workplace environment', 'customs, etiquette and manners', 'cosmetics and toiletries', 'colleges and universities', 'customs, etiquette and manners', 'gun control', 'skin', 'probiotics', 'digestive tract', 'microbiology', 'actors and actresses', 'elections, governors', 'politics and government', 'hats and caps', 'fashion and apparel', 'summer (season)', 'shopping and retail', 'marijuana', 'shopping and retail', 'dogs', 'frauds and swindling', 'social media', 'black markets', 'public relations and publicity', 'video recordings, downloads and streaming', 'online advertising', 'mobile applications', 'voice recognition systems', 'computers and the internet', 'social media', 'censorship', 'news and news media', 'virtual currency', 'bitcoin (currency)', 'personal finances', 'united states politics and government', 'elections, house of representatives', 'midterm elections (2018)', 'censorship', 'computers and the internet', 'politics and government', 'mobile applications', 'computers and the internet', 'cloud computing', 'online advertising', 'company reports', 'robots and robotics', 'artificial intelligence', 'venture capital', 'start-ups', 'computers and the internet', 'computers and the internet', 'ipod', 'maps', 'relocation of business', 'computers and the internet', 'employee fringe benefits', 'artificial intelligence', 'united states defense and military forces', 'driverless and semiautonomous vehicles', 'cyberwarfare and defense', 'united states politics and government', 'online advertising', 'computers and the internet', 'video recordings, downloads and streaming', 'social media', 'rumors and misinformation', 'rumors and misinformation', 'news and news media', 'theater', 'actors and actresses', 'writing and writers', 'theater', 'comedy and humor', 'movies', 'mental health and disorders', 'actors and actresses', 'theater', 'theater', 'actors and actresses', 'theater', 'theater', 'dancing', 'bars and nightclubs', 'theater', 'theater', 'theater', 'oregon shakespeare festival', 'wildfires', 'finances', 'travel and vacations', 'blacks', 'travel and vacations', 'wines', 'travel and vacations', 'diet and nutrition', 'vegetarianism', 'veganism', 'budget travel', 'travel and vacations', 'travel and vacations', 'travel and vacations', 'travel and vacations', 'hotels and travel lodgings', 'wines', 'travel and vacations', 'travel and vacations', 'restaurants', 'art', 'travel and vacations', 'bakeries and baked products', 'women and girls', 'travel and vacations', 'united states economy', 'federal taxes (us)', 'united states politics and government', 'capital gains tax', 'sex crimes', 'child abuse and neglect', 'priests', 'midterm elections (2018)', 'cyberwarfare and defense', 'russian interference in 2016 us elections and ties to trump associates', 'united states politics and government', 'united states politics and government', 'funerals and memorials', '#metoo movement', 'sexual harassment', 'actors and actresses', 'suits and litigation (civil)', 'priests', 'sex crimes', 'child abuse and neglect', 'parades', 'united states defense and military forces', 'russian interference in 2016 us elections and ties to trump associates', 'united states politics and government', 'russian interference in 2016 us elections and ties to trump associates', 'presidential election of 2016', 'elections', 'midterm elections (2018)', 'special prosecutors (independent counsel)', 'russian interference in 2016 us elections and ties to trump associates', 'united states politics and government', 'school shootings and armed attacks', 'gun control', 'water pollution', 'rivers', 'air pollution', 'clean air act', 'appointments and executive changes', 'united states politics and government', 'global warming', 'newtown, conn, shooting (2012)', 'cyberharassment', 'united states politics and government', 'russian interference in 2016 us elections and ties to trump associates', 'midterm elections (2018)', 'special prosecutors (independent counsel)', 'special prosecutors (independent counsel)', 'russian interference in 2016 us elections and ties to trump associates', 'united states politics and government', 'united states politics and government', 'midterm elections (2018)', 'federal taxes (us)', 'freedom of speech and expression', 'united states politics and government', 'russian interference in 2016 us elections and ties to trump associates', 'united states politics and government', 'organized crime', 'dementia', 'terrorism', 'bicycles and bicycling', 'murders, attempted murders and homicides', 'agriculture and farming', 'capital punishment', 'terrorism', 'sex crimes', 'child abuse and neglect', 'priests', 'secession and independence movements', 'sex crimes', 'child abuse and neglect', 'abortion', 'politics and government', 'weather', 'global warming', 'wildfires', 'airport security', 'palestinians', 'pilgrimages', 'prayers and prayer books', 'child abuse and neglect', 'sex crimes', 'comedy and humor', 'french language', 'politics and government', 'dancing', 'music', 'culture (arts)', 'economic conditions and trends', 'foreign investments', 'united states international relations', 'deaths (fatalities)', 'bridges and tunnels', 'accidents and safety', 'breastfeeding', 'police', 'defense and military forces', 'united states defense and military forces', 'great britain withdrawal from eu (brexit)', 'politics and government', 'international trade and world market']\n"
     ]
    }
   ],
   "source": [
    "type_list = [\"Arts\", \n",
    "             \"Automobiles\", \n",
    "             \"Blogs\", \n",
    "             \"Books\", \n",
    "             \"Business Day\", \n",
    "             \"Education\", \n",
    "             \"Fashion & Style\", \n",
    "             \"Food\", \n",
    "             \"Health\", \n",
    "             \"Job Market\", \n",
    "             \"Magazine\", \n",
    "             \"membercenter\", \n",
    "             \"Movies\", \n",
    "             \"Multimedia\", \n",
    "             \"N.Y.%20%2F%20Region\", \n",
    "             \"NYT Now\", \n",
    "             \"Obituaries\", \n",
    "             \"Open\", \n",
    "             \"Opinion\", \n",
    "             \"Public Editor\", \n",
    "             \"Real Estate\", \n",
    "             \"Science\", \n",
    "             \"Sports\", \n",
    "             \"Style\", \n",
    "             \"Sunday Review\", \n",
    "             \"T Magazine\", \n",
    "             \"Technology\", \n",
    "             \"The Upshot\", \n",
    "             \"Theater\", \n",
    "             \"Times Insider\", \n",
    "             \"Today’s Paper\", \n",
    "             \"Travel\", \n",
    "             \"U.S.\", \n",
    "             \"World\", \n",
    "             \"Your Money\"]\n",
    "\n",
    "# Initialize empty list to hold words\n",
    "words = []\n",
    "\n",
    "# Loop through each type\n",
    "for type in type_list:\n",
    "    # Starting URL for NYT Most Shared API Call\n",
    "    url = f\"http://api.nytimes.com/svc/mostpopular/v2/mostshared/{type}/30.json?\"\n",
    "    query_url = f\"{url}api-key={api_key}\"\n",
    "    response = requests.get(query_url).json()\n",
    "   # pprint(response)\n",
    "\n",
    "    # Loop through the list of articles, remove common punctuation, and perform a split\n",
    "    for result in range(len(response['results'])):\n",
    "        text = response['results'][result]['des_facet']\n",
    "        for word in text:\n",
    "            words.append(word.lower())\n",
    "print(words)"
   ]
  },
  {
   "cell_type": "code",
   "execution_count": 136,
   "metadata": {},
   "outputs": [
    {
     "data": {
      "text/plain": [
       "united states politics and government                                     25\n",
       "books and literature                                                      23\n",
       "movies                                                                    21\n",
       "theater                                                                   12\n",
       "russian interference in 2016 us elections and ties to trump associates    11\n",
       "travel and vacations                                                      11\n",
       "restaurants                                                               10\n",
       "writing and writers                                                       10\n",
       "politics and government                                                   10\n",
       "blacks                                                                     9\n",
       "actors and actresses                                                       9\n",
       "computers and the internet                                                 8\n",
       "baseball                                                                   8\n",
       "midterm elections (2018)                                                   7\n",
       "cooking and cookbooks                                                      7\n",
       "child abuse and neglect                                                    6\n",
       "global warming                                                             6\n",
       "television                                                                 6\n",
       "dogs                                                                       5\n",
       "united states defense and military forces                                  5\n",
       "music                                                                      5\n",
       "deaths (obituaries)                                                        5\n",
       "colleges and universities                                                  5\n",
       "united states international relations                                      5\n",
       "women and girls                                                            5\n",
       "social media                                                               5\n",
       "sex crimes                                                                 5\n",
       "comedy and humor                                                           5\n",
       "news and news media                                                        4\n",
       "genetics and heredity                                                      4\n",
       "                                                                          ..\n",
       "states (us)                                                                1\n",
       "sailboats and sailing                                                      1\n",
       "rebates and refunds                                                        1\n",
       "crows (birds)                                                              1\n",
       "bitcoin (currency)                                                         1\n",
       "myths and mythical creatures                                               1\n",
       "senses and sensation                                                       1\n",
       "fishing, commercial                                                        1\n",
       "venture capital                                                            1\n",
       "black markets                                                              1\n",
       "defoliants and herbicides                                                  1\n",
       "workplace environment                                                      1\n",
       "campaign finance                                                           1\n",
       "afghanistan war (2001- )                                                   1\n",
       "therapy and rehabilitation                                                 1\n",
       "immigration and emigration                                                 1\n",
       "memory                                                                     1\n",
       "amusement and theme parks                                                  1\n",
       "clean air act                                                              1\n",
       "special education                                                          1\n",
       "adhesives                                                                  1\n",
       "probiotics                                                                 1\n",
       "voice recognition systems                                                  1\n",
       "buprenorphine (drug)                                                       1\n",
       "diplomatic service, embassies and consulates                               1\n",
       "conservation of resources                                                  1\n",
       "same-sex marriage, civil unions and domestic partnerships                  1\n",
       "poker (card game)                                                          1\n",
       "urban areas                                                                1\n",
       "space and astronomy                                                        1\n",
       "Name: Words, Length: 323, dtype: int64"
      ]
     },
     "execution_count": 136,
     "metadata": {},
     "output_type": "execute_result"
    }
   ],
   "source": [
    "word_df=pd.DataFrame(words)\n",
    "word_df.head()\n",
    "word_df_rnm = word_df.rename(columns={0:\"Words\"})\n",
    "word_df_rnm['Words'].value_counts()"
   ]
  },
  {
   "cell_type": "code",
   "execution_count": null,
   "metadata": {},
   "outputs": [],
   "source": []
  }
 ],
 "metadata": {
  "kernelspec": {
   "display_name": "Python [conda env:PythonData]",
   "language": "python",
   "name": "conda-env-PythonData-py"
  },
  "language_info": {
   "codemirror_mode": {
    "name": "ipython",
    "version": 3
   },
   "file_extension": ".py",
   "mimetype": "text/x-python",
   "name": "python",
   "nbconvert_exporter": "python",
   "pygments_lexer": "ipython3",
   "version": "3.6.5"
  }
 },
 "nbformat": 4,
 "nbformat_minor": 2
}
