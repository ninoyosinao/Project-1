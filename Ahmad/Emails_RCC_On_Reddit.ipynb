{
 "cells": [
  {
   "cell_type": "code",
   "execution_count": 1,
   "metadata": {},
   "outputs": [],
   "source": [
    "# Dependencies and Setup\n",
    "import matplotlib.pyplot as plt\n",
    "import pandas as pd\n",
    "import numpy as np\n",
    "import requests\n",
    "import time\n",
    "from pytrends.request import TrendReq\n",
    "from pprint import pprint\n",
    "import string\n",
    "import praw\n",
    "import datetime\n",
    "\n",
    "# Import API key\n",
    "from config import reddit_id\n",
    "from config import reddit_secret\n",
    "from config import username\n",
    "from config import password\n"
   ]
  },
  {
   "cell_type": "code",
   "execution_count": 2,
   "metadata": {},
   "outputs": [
    {
     "name": "stdout",
     "output_type": "stream",
     "text": [
      "Admer2019\n",
      "1\n",
      "1535069107.0\n",
      "2018-08-23 17:05:07\n",
      "Catholic conference hears appeal for Church to welcome gay people\n",
      "42\n",
      "2\n",
      "1514184702.0\n",
      "2017-12-24 22:51:42\n",
      "At Christmas Eve Mass, Pope Francis compares Mary and Joseph to modern migrants and refugees\n",
      "1706\n",
      "3\n",
      "1511934210.0\n",
      "2017-11-28 21:43:30\n",
      "U.S. Catholic Bishops Issue Statement in Defense of Net Neutrality\n",
      "799\n",
      "4\n",
      "1509150574.0\n",
      "2017-10-27 17:29:34\n",
      "The war against Pope Francis\n",
      "20\n",
      "5\n",
      "1505959886.0\n",
      "2017-09-20 19:11:26\n",
      "Mormon Sect Leader Pleads Guilty of Food Stamp Fraud Scheme\n",
      "207\n"
     ]
    }
   ],
   "source": [
    "# Import Reddit credentials\n",
    "reddit = praw.Reddit(client_id=reddit_id,\n",
    "                     client_secret=reddit_secret,\n",
    "                     password=password,\n",
    "                     user_agent=f\"script by u/{username}\",\n",
    "                     username=username)\n",
    "print(reddit.user.me())\n",
    "# Initialize count and lists for DataFrame\n",
    "count=0\n",
    "timestamps=[]\n",
    "timestamps_conv=[]\n",
    "submission_title=[]\n",
    "likes=[]\n",
    "\n",
    "\n",
    "for submission in reddit.subreddit('news').search('Roman Catholic Church', sort='new', time_filter='year', limit=300):\n",
    "   count+=1\n",
    "   print(count)\n",
    "   timestamps.append(submission.created)\n",
    "   print(submission.created)\n",
    "   value = datetime.datetime.fromtimestamp(submission.created)\n",
    "   timestamps_conv.append(value)\n",
    "   print(value)\n",
    "   submission_title.append(submission.title)\n",
    "   print(submission.title)\n",
    "   likes.append(submission.ups)\n",
    "   print(submission.ups)"
   ]
  },
  {
   "cell_type": "code",
   "execution_count": 3,
   "metadata": {},
   "outputs": [
    {
     "data": {
      "text/html": [
       "<div>\n",
       "<style scoped>\n",
       "    .dataframe tbody tr th:only-of-type {\n",
       "        vertical-align: middle;\n",
       "    }\n",
       "\n",
       "    .dataframe tbody tr th {\n",
       "        vertical-align: top;\n",
       "    }\n",
       "\n",
       "    .dataframe thead th {\n",
       "        text-align: right;\n",
       "    }\n",
       "</style>\n",
       "<table border=\"1\" class=\"dataframe\">\n",
       "  <thead>\n",
       "    <tr style=\"text-align: right;\">\n",
       "      <th></th>\n",
       "      <th>Time Created</th>\n",
       "      <th>Time Created (Human-Readable)</th>\n",
       "      <th>Title</th>\n",
       "      <th>Likes</th>\n",
       "    </tr>\n",
       "  </thead>\n",
       "  <tbody>\n",
       "    <tr>\n",
       "      <th>0</th>\n",
       "      <td>1.535069e+09</td>\n",
       "      <td>2018-08-23 17:05:07</td>\n",
       "      <td>Catholic conference hears appeal for Church to...</td>\n",
       "      <td>42</td>\n",
       "    </tr>\n",
       "    <tr>\n",
       "      <th>1</th>\n",
       "      <td>1.514185e+09</td>\n",
       "      <td>2017-12-24 22:51:42</td>\n",
       "      <td>At Christmas Eve Mass, Pope Francis compares M...</td>\n",
       "      <td>1706</td>\n",
       "    </tr>\n",
       "    <tr>\n",
       "      <th>2</th>\n",
       "      <td>1.511934e+09</td>\n",
       "      <td>2017-11-28 21:43:30</td>\n",
       "      <td>U.S. Catholic Bishops Issue Statement in Defen...</td>\n",
       "      <td>799</td>\n",
       "    </tr>\n",
       "    <tr>\n",
       "      <th>3</th>\n",
       "      <td>1.509151e+09</td>\n",
       "      <td>2017-10-27 17:29:34</td>\n",
       "      <td>The war against Pope Francis</td>\n",
       "      <td>20</td>\n",
       "    </tr>\n",
       "    <tr>\n",
       "      <th>4</th>\n",
       "      <td>1.505960e+09</td>\n",
       "      <td>2017-09-20 19:11:26</td>\n",
       "      <td>Mormon Sect Leader Pleads Guilty of Food Stamp...</td>\n",
       "      <td>207</td>\n",
       "    </tr>\n",
       "  </tbody>\n",
       "</table>\n",
       "</div>"
      ],
      "text/plain": [
       "   Time Created Time Created (Human-Readable)  \\\n",
       "0  1.535069e+09           2018-08-23 17:05:07   \n",
       "1  1.514185e+09           2017-12-24 22:51:42   \n",
       "2  1.511934e+09           2017-11-28 21:43:30   \n",
       "3  1.509151e+09           2017-10-27 17:29:34   \n",
       "4  1.505960e+09           2017-09-20 19:11:26   \n",
       "\n",
       "                                               Title  Likes  \n",
       "0  Catholic conference hears appeal for Church to...     42  \n",
       "1  At Christmas Eve Mass, Pope Francis compares M...   1706  \n",
       "2  U.S. Catholic Bishops Issue Statement in Defen...    799  \n",
       "3                       The war against Pope Francis     20  \n",
       "4  Mormon Sect Leader Pleads Guilty of Food Stamp...    207  "
      ]
     },
     "execution_count": 3,
     "metadata": {},
     "output_type": "execute_result"
    }
   ],
   "source": [
    "#New dictionnary names\n",
    "reddit_dict={\"Time Created\":timestamps,\n",
    "          \"Time Created (Human-Readable)\":timestamps_conv,\n",
    "          \"Title\": submission_title,\n",
    "          \"Likes\": likes}\n",
    "\n",
    "reddit_df=pd.DataFrame(reddit_dict)\n",
    "reddit_df"
   ]
  },
  {
   "cell_type": "code",
   "execution_count": 4,
   "metadata": {},
   "outputs": [],
   "source": [
    "#filter out likes by median\n",
    "\n",
    "mostliked_df = reddit_df.loc[reddit_df[\"Likes\"] >=reddit_df[\"Likes\"].median(), :]\n",
    "#df.loc[df['shield'] > 6\n",
    "mostliked_df=mostliked_df.reset_index()"
   ]
  },
  {
   "cell_type": "code",
   "execution_count": 5,
   "metadata": {},
   "outputs": [
    {
     "data": {
      "text/html": [
       "<div>\n",
       "<style scoped>\n",
       "    .dataframe tbody tr th:only-of-type {\n",
       "        vertical-align: middle;\n",
       "    }\n",
       "\n",
       "    .dataframe tbody tr th {\n",
       "        vertical-align: top;\n",
       "    }\n",
       "\n",
       "    .dataframe thead th {\n",
       "        text-align: right;\n",
       "    }\n",
       "</style>\n",
       "<table border=\"1\" class=\"dataframe\">\n",
       "  <thead>\n",
       "    <tr style=\"text-align: right;\">\n",
       "      <th></th>\n",
       "      <th>index</th>\n",
       "      <th>Time Created</th>\n",
       "      <th>Time Created (Human-Readable)</th>\n",
       "      <th>Title</th>\n",
       "      <th>Likes</th>\n",
       "    </tr>\n",
       "  </thead>\n",
       "  <tbody>\n",
       "    <tr>\n",
       "      <th>0</th>\n",
       "      <td>1</td>\n",
       "      <td>1.514185e+09</td>\n",
       "      <td>2017-12-24 22:51:42</td>\n",
       "      <td>At Christmas Eve Mass, Pope Francis compares M...</td>\n",
       "      <td>1706</td>\n",
       "    </tr>\n",
       "    <tr>\n",
       "      <th>1</th>\n",
       "      <td>2</td>\n",
       "      <td>1.511934e+09</td>\n",
       "      <td>2017-11-28 21:43:30</td>\n",
       "      <td>U.S. Catholic Bishops Issue Statement in Defen...</td>\n",
       "      <td>799</td>\n",
       "    </tr>\n",
       "    <tr>\n",
       "      <th>2</th>\n",
       "      <td>4</td>\n",
       "      <td>1.505960e+09</td>\n",
       "      <td>2017-09-20 19:11:26</td>\n",
       "      <td>Mormon Sect Leader Pleads Guilty of Food Stamp...</td>\n",
       "      <td>207</td>\n",
       "    </tr>\n",
       "  </tbody>\n",
       "</table>\n",
       "</div>"
      ],
      "text/plain": [
       "   index  Time Created Time Created (Human-Readable)  \\\n",
       "0      1  1.514185e+09           2017-12-24 22:51:42   \n",
       "1      2  1.511934e+09           2017-11-28 21:43:30   \n",
       "2      4  1.505960e+09           2017-09-20 19:11:26   \n",
       "\n",
       "                                               Title  Likes  \n",
       "0  At Christmas Eve Mass, Pope Francis compares M...   1706  \n",
       "1  U.S. Catholic Bishops Issue Statement in Defen...    799  \n",
       "2  Mormon Sect Leader Pleads Guilty of Food Stamp...    207  "
      ]
     },
     "execution_count": 5,
     "metadata": {},
     "output_type": "execute_result"
    }
   ],
   "source": [
    "#Sort most liked articles by time created\n",
    "\n",
    "mostliked_df.sort_values(by=(\"Time Created\"), ascending=False)"
   ]
  },
  {
   "cell_type": "code",
   "execution_count": 6,
   "metadata": {},
   "outputs": [
    {
     "data": {
      "image/png": "[encoded data removed]",
      "text/plain": [
       "<Figure size 432x288 with 1 Axes>"
      ]
     },
     "metadata": {},
     "output_type": "display_data"
    }
   ],
   "source": [
    "#Show the line graph for the popularity of search queries over time\n",
    "plt.plot(mostliked_df[\"Time Created\"], mostliked_df[\"Likes\"], color='g')\n",
    "#plt.plot(year, pop_india, color='orange')\n",
    "plt.xlabel('Time Created')\n",
    "plt.ylabel('Likes')\n",
    "plt.title('Popularity Of Search Queries Over Time')\n",
    "plt.tight_layout()\n",
    "plt.show()"
   ]
  },
  {
   "cell_type": "code",
   "execution_count": null,
   "metadata": {},
   "outputs": [],
   "source": []
  }
 ],
 "metadata": {
  "kernelspec": {
   "display_name": "Python 3",
   "language": "python",
   "name": "python3"
  },
  "language_info": {
   "codemirror_mode": {
    "name": "ipython",
    "version": 3
   },
   "file_extension": ".py",
   "mimetype": "text/x-python",
   "name": "python",
   "nbconvert_exporter": "python",
   "pygments_lexer": "ipython3",
   "version": "3.6.5"
  }
 },
 "nbformat": 4,
 "nbformat_minor": 2
}
