{
 "cells": [
  {
   "cell_type": "code",
   "execution_count": 1,
   "metadata": {},
   "outputs": [],
   "source": [
    "# Dependencies and Setup\n",
    "import matplotlib.pyplot as plt\n",
    "import pandas as pd\n",
    "import numpy as np\n",
    "import requests\n",
    "import time\n",
    "#import gmaps\n",
    "from pytrends.request import TrendReq\n",
    "from pprint import pprint\n",
    "import string\n",
    "\n",
    "# Import API key\n",
    "from config import api_key\n"
   ]
  },
  {
   "cell_type": "code",
   "execution_count": 2,
   "metadata": {},
   "outputs": [],
   "source": [
    "#In This file, we tried to test if there any relation between the Trump administration and the \"fight\" with media like NYT."
   ]
  },
  {
   "cell_type": "code",
   "execution_count": 3,
   "metadata": {},
   "outputs": [],
   "source": [
    "#Retrieve data from NYM\n",
    "\n",
    "url = \"https://api.nytimes.com/svc/search/v2/articlesearch.json?\"\n",
    "\n",
    "# Store a search term (Trump)\n",
    "query = \"trump\"\n",
    "\n",
    "# Search for articles published between a begin and end date\n",
    "begin_date = \"20180801\"\n",
    "end_date = \"20180830\"\n",
    "\n",
    "query_url = f\"{url}api-key={api_key}&q={query}&begin_date={begin_date}&end_date={end_date}\""
   ]
  },
  {
   "cell_type": "code",
   "execution_count": 4,
   "metadata": {
    "scrolled": true
   },
   "outputs": [
    {
     "name": "stdout",
     "output_type": "stream",
     "text": [
      "A snippet from the article: The district attorney’s office is weighing whether the company’s false accounting regarding payment to silence an adult film star violates state law.\n",
      "A snippet from the article: The more Trump is cornered, the more he mirrors Richard Nixon.\n",
      "A snippet from the article: President Trump claimed that the June 2016 meeting was “totally legal,” though it is a key subject of the investigation by the special counsel, Robert S. Mueller III.\n",
      "A snippet from the article: Ms. Manigault Newman responded that Mr. Trump, who has also insulted Don Lemon and LeBron James, “has absolutely no respect for women, for African-Americans.’’\n",
      "A snippet from the article: A transcript of “that” meeting with the Russians surfaces — and a controversy is settled.\n",
      "A snippet from the article: The deal for testimony in the case against President Trump’s former personal lawyer, Michael D. Cohen, did not extend a blanket immunity beyond the information shared, a person briefed on the arrangement said.\n",
      "A snippet from the article: The president, who has condoned violence at his rallies, says Democrats will “violently” overturn all he has done if they prevail in the midterms.\n",
      "A snippet from the article: Readers discuss an Op-Ed article decrying Democrats’ “inflammatory rhetoric.”\n",
      "A snippet from the article: What fun is it being president if you can’t use the tools of government to punish your critics?\n",
      "A snippet from the article: A move by the company has put one of the country’s most iconic brands in the uncomfortable position of clashing with a president who is immensely popular with most of its customers.\n"
     ]
    }
   ],
   "source": [
    "# Retrieve articles\n",
    "articles = requests.get(query_url).json()\n",
    "articles_list = [article for article in articles[\"response\"][\"docs\"]]\n",
    "\n",
    "\n",
    "for article in articles_list:\n",
    "    print(f'A snippet from the article: {article[\"snippet\"]}')"
   ]
  },
  {
   "cell_type": "code",
   "execution_count": 5,
   "metadata": {},
   "outputs": [],
   "source": [
    "# Emply list for articles\n",
    "articles_list = []\n",
    "\n",
    "# loop through pages 0-2\n",
    "\n",
    "for page in range(0, 3):\n",
    "    time.sleep(1)\n",
    "    query_url = f\"{url}api-key={api_key}&q={query}&begin_date={begin_date}&end_date={end_date}\"\n",
    "    # create query with page number\n",
    "    query_url = f\"{query_url}&page={str(page)}\"\n",
    "    articles = requests.get(query_url).json()\n",
    "#     time.sleep(1)\n",
    "#     pprint(articles)\n",
    "    # Add a one second interval between queries to stay within API query limits\n",
    "    time.sleep(1)\n",
    "#     loop through the response and append each article to the list\n",
    "    for article in articles[\"response\"][\"docs\"]:\n",
    "        articles_list.append(article)\n",
    "        \n",
    "#articles_list"
   ]
  },
  {
   "cell_type": "code",
   "execution_count": null,
   "metadata": {},
   "outputs": [],
   "source": []
  }
 ],
 "metadata": {
  "kernelspec": {
   "display_name": "Python 3",
   "language": "python",
   "name": "python3"
  },
  "language_info": {
   "codemirror_mode": {
    "name": "ipython",
    "version": 3
   },
   "file_extension": ".py",
   "mimetype": "text/x-python",
   "name": "python",
   "nbconvert_exporter": "python",
   "pygments_lexer": "ipython3",
   "version": "3.6.5"
  }
 },
 "nbformat": 4,
 "nbformat_minor": 2
}
