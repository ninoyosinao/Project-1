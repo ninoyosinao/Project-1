{
 "cells": [
  {
   "cell_type": "code",
   "execution_count": 1,
   "metadata": {},
   "outputs": [],
   "source": [
    "# Dependencies\n",
    "import requests\n",
    "from config import api_key\n",
    "from pprint import pprint\n",
    "import pandas as pd\n",
    "import numpy as np\n",
    "import string \n",
    "\n",
    "section = [\"Arts\", \"Automobiles\", \"Blogs\", \"Business Day\", \"Education\", \"Fashion & Style\", \"Food\", \"Health\", \"Job Market\", \"Magazine\", \n",
    "           \"membercenter\", \"Movies\", \"Multimedia\", \"N.Y.%20%2F%20Region\", \"NYT Now\", \"Obituaries\", \"Open\", \"Opinion\", \"Public Editor\", \n",
    "           \"Real Estate\", \"Science\", \"Sports\", \"Style\", \"Sunday Review\", \"T Magazine\", \"Technology\", \"The Upshot\", \"Theater\", \"Times Insider\", \n",
    "           \"Today’s Paper\", \"Travel\", \"U.S.\", \"World\", \"Your Money\"]\n",
    "\n",
    "url = \"https://api.nytimes.com/svc/mostpopular/v2/mostshared/all-sections/email/30.json?\"\n",
    "\n",
    "query_url = url + \"api-key=\" + api_key"
   ]
  },
  {
   "cell_type": "code",
   "execution_count": 2,
   "metadata": {},
   "outputs": [
    {
     "name": "stdout",
     "output_type": "stream",
     "text": [
      "['UNITED STATES POLITICS AND GOVERNMENT']\n",
      "['WOMEN AND GIRLS', 'MATHEMATICS', 'EDUCATION (K-12)', 'SCIENCE AND TECHNOLOGY']\n",
      "['COLLEGES AND UNIVERSITIES', 'CAREERS AND PROFESSIONS']\n",
      "['FISHING, SPORT']\n",
      "['CORRUPTION (INSTITUTIONAL)', 'UNITED STATES POLITICS AND GOVERNMENT', 'RUSSIAN INTERFERENCE IN 2016 US ELECTIONS AND TIES TO TRUMP ASSOCIATES']\n",
      "['UNITED STATES POLITICS AND GOVERNMENT', 'MIDTERM ELECTIONS (2018)']\n",
      "['PARENTING']\n",
      "['SLEEP', 'COLLEGES AND UNIVERSITIES', 'TESTS AND EXAMINATIONS']\n",
      "['FIRST LADIES (US)']\n",
      "['DEMENTIA']\n",
      "['POACHING (WILDLIFE)', 'ELEPHANTS', 'IVORY']\n",
      "['POETRY AND POETS', 'DISABILITIES']\n",
      "['MIDTERM ELECTIONS (2018)', 'RUSSIAN INTERFERENCE IN 2016 US ELECTIONS AND TIES TO TRUMP ASSOCIATES', 'UNITED STATES POLITICS AND GOVERNMENT']\n",
      "['COLLEGES AND UNIVERSITIES', 'ADMISSIONS STANDARDS', 'EDUCATION']\n",
      "['MENOPAUSE', 'DOGS']\n",
      "['SEX CRIMES', 'CHILD ABUSE AND NEGLECT', 'PRIESTS']\n",
      "['RUSSIAN INTERFERENCE IN 2016 US ELECTIONS AND TIES TO TRUMP ASSOCIATES', 'UNITED STATES POLITICS AND GOVERNMENT']\n",
      "['RETIREMENT']\n",
      "['BRAIN', 'CARBON DIOXIDE', 'EXERCISE', 'WALKING']\n",
      "['SOCIALISM (THEORY AND PHILOSOPHY)', 'UNITED STATES POLITICS AND GOVERNMENT']\n"
     ]
    }
   ],
   "source": [
    "response = requests.get(query_url).json()\n",
    "\n",
    "#result = [word.lower() for word in words.split(\", \")]#result \n",
    "for i in range(len(response['results'])):\n",
    "    test = response['results'][i]['des_facet']\n",
    "    print(test)"
   ]
  },
  {
   "cell_type": "code",
   "execution_count": 3,
   "metadata": {},
   "outputs": [],
   "source": [
    "# # Retrieve articles\n",
    "# words = []\n",
    "\n",
    "# for section in sections:    \n",
    "#     query_url = url + section + \"/30.json?api-key=\" + api_key\n",
    "\n",
    "#     articles = requests.get(query_url).json()\n",
    "\n",
    "#     # pprint(articles)\n",
    "#     for i in range(len(articles[\"results\"])):\n",
    "#         text = articles[\"results\"][i][\"title\"]\n",
    "#         text = text.replace(\"-\", \" \")\n",
    "#         text = text.replace(\"’s\", \"\")\n",
    "#         text = text.replace(\"’ll\", \"\")\n",
    "#         text = text.replace(\"’\", \"\")\n",
    "#         text = text.replace(\"‘\", \"\")\n",
    "#         text = text.replace(\"?\", \"\")\n",
    "#         text = text.replace(\"!\", \"\")\n",
    "#         text = text.replace(\":\", \"\")\n",
    "#         text = text.replace(\",\", \"\")\n",
    "#         text = text.replace(\".\", \"\")\n",
    "#         text = text.replace(\";\", \"\")\n",
    "#         text_split = text.split(\" \")\n",
    "\n",
    "#         for word in text_split:\n",
    "#     #         word = word.translate(str.maketrans({\":\":None, \"!\":None, \".\":None, \"?\": None, \",\": None}))\n",
    "#             word = word.lower()\n",
    "#             words.append(word)\n",
    "# #     print(words)"
   ]
  },
  {
   "cell_type": "code",
   "execution_count": 4,
   "metadata": {},
   "outputs": [],
   "source": [
    "# words_df = pd.DataFrame({\"Word\": words})\n",
    "# words_df[\"Word\"].value_counts()"
   ]
  },
  {
   "cell_type": "code",
   "execution_count": null,
   "metadata": {},
   "outputs": [],
   "source": []
  }
 ],
 "metadata": {
  "kernelspec": {
   "display_name": "Python [default]",
   "language": "python",
   "name": "python3"
  },
  "language_info": {
   "codemirror_mode": {
    "name": "ipython",
    "version": 3
   },
   "file_extension": ".py",
   "mimetype": "text/x-python",
   "name": "python",
   "nbconvert_exporter": "python",
   "pygments_lexer": "ipython3",
   "version": "3.6.5"
  },
  "varInspector": {
   "cols": {
    "lenName": 16,
    "lenType": 16,
    "lenVar": 40
   },
   "kernels_config": {
    "python": {
     "delete_cmd_postfix": "",
     "delete_cmd_prefix": "del ",
     "library": "var_list.py",
     "varRefreshCmd": "print(var_dic_list())"
    },
    "r": {
     "delete_cmd_postfix": ") ",
     "delete_cmd_prefix": "rm(",
     "library": "var_list.r",
     "varRefreshCmd": "cat(var_dic_list()) "
    }
   },
   "types_to_exclude": [
    "module",
    "function",
    "builtin_function_or_method",
    "instance",
    "_Feature"
   ],
   "window_display": false
  }
 },
 "nbformat": 4,
 "nbformat_minor": 2
}
